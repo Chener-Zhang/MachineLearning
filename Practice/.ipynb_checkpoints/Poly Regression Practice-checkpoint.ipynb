{
 "cells": [
  {
   "cell_type": "code",
   "execution_count": 174,
   "id": "ce8f7897",
   "metadata": {},
   "outputs": [],
   "source": [
    "import numpy as np\n",
    "import pandas as pd\n",
    "import matplotlib.pyplot as plt\n",
    "\n",
    "x = np.arange(0, 30)\n",
    "y = [3, 4, 5, 7, 10, 8, 9, 10, 10, 23, 27, 44, 50, 63, 67, 60, 62, 70, 75, 88, 81, 87, 95, 100, 108, 135, 151, 160, 169, 179]"
   ]
  },
  {
   "cell_type": "code",
   "execution_count": 175,
   "id": "2f8f54be",
   "metadata": {},
   "outputs": [
    {
     "data": {
      "image/png": "[encoded data removed]",
      "text/plain": [
       "<Figure size 432x288 with 1 Axes>"
      ]
     },
     "metadata": {
      "needs_background": "light"
     },
     "output_type": "display_data"
    }
   ],
   "source": [
    "plt.scatter(x,y)\n",
    "plt.show()"
   ]
  },
  {
   "cell_type": "code",
   "execution_count": 176,
   "id": "be229ca2",
   "metadata": {},
   "outputs": [],
   "source": [
    "from sklearn.preprocessing import PolynomialFeatures\n",
    "from sklearn.linear_model import LinearRegression"
   ]
  },
  {
   "cell_type": "code",
   "execution_count": 177,
   "id": "df50c752",
   "metadata": {},
   "outputs": [],
   "source": [
    "poly = PolynomialFeatures(degree=2, include_bias=False)"
   ]
  },
  {
   "cell_type": "code",
   "execution_count": 178,
   "id": "5f189f6c",
   "metadata": {},
   "outputs": [],
   "source": [
    "poly_features = poly.fit_transform(x.reshape(-1, 1))"
   ]
  },
  {
   "cell_type": "code",
   "execution_count": 179,
   "id": "8411b113",
   "metadata": {},
   "outputs": [
    {
     "data": {
      "text/plain": [
       "LinearRegression()"
      ]
     },
     "execution_count": 179,
     "metadata": {},
     "output_type": "execute_result"
    }
   ],
   "source": [
    "# Init the poly_model\n",
    "# Fit the poly_model\n",
    "poly_model = LinearRegression()\n",
    "poly_model.fit(poly_features,y)"
   ]
  },
  {
   "cell_type": "code",
   "execution_count": 180,
   "id": "c84b6f7a",
   "metadata": {},
   "outputs": [],
   "source": [
    "y_prediction = poly_model.predict(poly_features)"
   ]
  },
  {
   "cell_type": "code",
   "execution_count": 182,
   "id": "166d3806",
   "metadata": {},
   "outputs": [
    {
     "data": {
      "text/plain": [
       "array([  1.70806452,   3.04187987,   4.70292388,   6.69119657,\n",
       "         9.00669792,  11.64942794,  14.61938662,  17.91657397,\n",
       "        21.54098999,  25.49263467,  29.77150802,  34.37761004,\n",
       "        39.31094073,  44.57150008,  50.1592881 ,  56.07430478,\n",
       "        62.31655014,  68.88602415,  75.78272684,  83.00665819,\n",
       "        90.55781821,  98.4362069 , 106.64182425, 115.17467027,\n",
       "       124.03474495, 133.22204831, 142.73658033, 152.57834101,\n",
       "       162.74733037, 173.24354839])"
      ]
     },
     "execution_count": 182,
     "metadata": {},
     "output_type": "execute_result"
    }
   ],
   "source": [
    "y_prediction"
   ]
  },
  {
   "cell_type": "code",
   "execution_count": 186,
   "id": "7174e361",
   "metadata": {
    "scrolled": true
   },
   "outputs": [
    {
     "data": {
      "text/plain": [
       "[<matplotlib.lines.Line2D at 0x1b0889bc9d0>]"
      ]
     },
     "execution_count": 186,
     "metadata": {},
     "output_type": "execute_result"
    },
    {
     "data": {
      "image/png": "[encoded data removed]",
      "text/plain": [
       "<Figure size 432x288 with 1 Axes>"
      ]
     },
     "metadata": {
      "needs_background": "light"
     },
     "output_type": "display_data"
    }
   ],
   "source": [
    "# Original data \n",
    "# plt.scatter(x,y)\n",
    "# Prediction Data \n",
    "plt.plot(x,y_prediction,'r')\n",
    "plt.plot(x,y,'g')"
   ]
  },
  {
   "cell_type": "code",
   "execution_count": null,
   "id": "1a3a9fbd",
   "metadata": {},
   "outputs": [],
   "source": []
  },
  {
   "cell_type": "code",
   "execution_count": 145,
   "id": "37e4ce99",
   "metadata": {},
   "outputs": [],
   "source": [
    "#Multi feature poly\n",
    "import numpy as np\n",
    "import pandas as pd\n",
    "import matplotlib.pyplot as plt\n",
    "from sklearn.model_selection import train_test_split\n",
    "from sklearn.metrics import mean_squared_error"
   ]
  },
  {
   "cell_type": "code",
   "execution_count": 146,
   "id": "b6f04fe9",
   "metadata": {},
   "outputs": [],
   "source": [
    "df = pd.read_csv(\"Advertising.csv\")"
   ]
  },
  {
   "cell_type": "code",
   "execution_count": 147,
   "id": "f193ccf4",
   "metadata": {},
   "outputs": [],
   "source": [
    "X= df.drop('sales',axis=1)"
   ]
  },
  {
   "cell_type": "code",
   "execution_count": 148,
   "id": "0fbaa879",
   "metadata": {},
   "outputs": [],
   "source": [
    "y = df['sales']"
   ]
  },
  {
   "cell_type": "code",
   "execution_count": 149,
   "id": "ca435f20",
   "metadata": {},
   "outputs": [],
   "source": [
    "poly = PolynomialFeatures(degree=2, include_bias=False)"
   ]
  },
  {
   "cell_type": "code",
   "execution_count": 162,
   "id": "c366a46d",
   "metadata": {},
   "outputs": [],
   "source": [
    "poly_features = poly.fit_transform(X)"
   ]
  },
  {
   "cell_type": "code",
   "execution_count": 163,
   "id": "e680eb81",
   "metadata": {},
   "outputs": [],
   "source": [
    "X_train, X_test, y_train, y_test = train_test_split(poly_features, y, test_size=0.3, random_state=42)"
   ]
  },
  {
   "cell_type": "code",
   "execution_count": null,
   "id": "56d977fe",
   "metadata": {},
   "outputs": [],
   "source": []
  },
  {
   "cell_type": "code",
   "execution_count": 164,
   "id": "2916b7ce",
   "metadata": {},
   "outputs": [],
   "source": [
    "poly_reg_model = LinearRegression()"
   ]
  },
  {
   "cell_type": "code",
   "execution_count": 165,
   "id": "86c8d18e",
   "metadata": {},
   "outputs": [
    {
     "data": {
      "text/plain": [
       "LinearRegression()"
      ]
     },
     "execution_count": 165,
     "metadata": {},
     "output_type": "execute_result"
    }
   ],
   "source": [
    "poly_reg_model.fit(X_train, y_train)"
   ]
  },
  {
   "cell_type": "code",
   "execution_count": 167,
   "id": "73d0f347",
   "metadata": {},
   "outputs": [],
   "source": [
    "poly_reg_y_predicted = poly_reg_model.predict(X_test)\n",
    "\n",
    "# poly_reg_rmse = np.sqrt(mean_squared_error(y_test, poly_reg_y_predicted))\n",
    "# poly_reg_rmse"
   ]
  },
  {
   "cell_type": "code",
   "execution_count": 169,
   "id": "e753c522",
   "metadata": {},
   "outputs": [],
   "source": [
    "# Creating a linear regression model\n",
    "X_train, X_test, y_train, y_test = train_test_split(X, y, test_size=0.3, random_state=42)\n",
    "lin_reg_model = LinearRegression()\n",
    "lin_reg_model.fit(X_train, y_train)\n",
    "lin_reg_y_predicted = lin_reg_model.predict(X_test)\n"
   ]
  },
  {
   "cell_type": "code",
   "execution_count": 172,
   "id": "ae65c135",
   "metadata": {},
   "outputs": [
    {
     "data": {
      "text/plain": [
       "<matplotlib.collections.PathCollection at 0x1b08777b400>"
      ]
     },
     "execution_count": 172,
     "metadata": {},
     "output_type": "execute_result"
    },
    {
     "data": {
      "image/png": "[encoded data removed]",
      "text/plain": [
       "<Figure size 432x288 with 1 Axes>"
      ]
     },
     "metadata": {
      "needs_background": "light"
     },
     "output_type": "display_data"
    }
   ],
   "source": [
    "plt.plot(y_test,lin_reg_y_predicted)"
   ]
  },
  {
   "cell_type": "code",
   "execution_count": null,
   "id": "41b2dc4e",
   "metadata": {},
   "outputs": [],
   "source": []
  },
  {
   "cell_type": "code",
   "execution_count": null,
   "id": "0cad552e",
   "metadata": {},
   "outputs": [],
   "source": [
    "# Polynominals Dataset"
   ]
  },
  {
   "cell_type": "code",
   "execution_count": 204,
   "id": "8e9fed5b",
   "metadata": {},
   "outputs": [],
   "source": [
    "import numpy as np\n",
    "import pandas as pd\n",
    "import matplotlib.pyplot as plt\n",
    "from sklearn.model_selection import train_test_split\n",
    "from sklearn.metrics import mean_squared_error\n",
    "from sklearn.preprocessing import PolynomialFeatures\n",
    "from sklearn.linear_model import LinearRegression"
   ]
  },
  {
   "cell_type": "code",
   "execution_count": 205,
   "id": "3695c8d4",
   "metadata": {},
   "outputs": [],
   "source": [
    "x = np.array(range(1,20))"
   ]
  },
  {
   "cell_type": "code",
   "execution_count": 206,
   "id": "3dd0e159",
   "metadata": {},
   "outputs": [],
   "source": [
    "y = 3*x**2 +8"
   ]
  },
  {
   "cell_type": "code",
   "execution_count": 213,
   "id": "56006fba",
   "metadata": {},
   "outputs": [],
   "source": [
    "testModel = PolynomialFeatures(2)"
   ]
  },
  {
   "cell_type": "code",
   "execution_count": 214,
   "id": "bbd41315",
   "metadata": {},
   "outputs": [],
   "source": [
    "test_feature = testModel.fit_transform(x.reshape(-1,1))"
   ]
  },
  {
   "cell_type": "code",
   "execution_count": 217,
   "id": "6ad05808",
   "metadata": {},
   "outputs": [
    {
     "data": {
      "text/plain": [
       "LinearRegression()"
      ]
     },
     "execution_count": 217,
     "metadata": {},
     "output_type": "execute_result"
    }
   ],
   "source": [
    "test_regression = LinearRegression()\n",
    "test_regression.fit(test_feature,y)"
   ]
  },
  {
   "cell_type": "code",
   "execution_count": 219,
   "id": "cfe71b40",
   "metadata": {},
   "outputs": [],
   "source": [
    "y_predict = test_regression.predict(test_feature)"
   ]
  },
  {
   "cell_type": "code",
   "execution_count": 222,
   "id": "fe9b639c",
   "metadata": {},
   "outputs": [
    {
     "data": {
      "text/plain": [
       "[<matplotlib.lines.Line2D at 0x1b088b355e0>]"
      ]
     },
     "execution_count": 222,
     "metadata": {},
     "output_type": "execute_result"
    },
    {
     "data": {
      "image/png": "[encoded data removed]",
      "text/plain": [
       "<Figure size 432x288 with 1 Axes>"
      ]
     },
     "metadata": {
      "needs_background": "light"
     },
     "output_type": "display_data"
    }
   ],
   "source": [
    "plt.plot(x,y_predict)\n",
    "plt.plot(x,y)"
   ]
  },
  {
   "cell_type": "code",
   "execution_count": null,
   "id": "cf76af68",
   "metadata": {},
   "outputs": [],
   "source": []
  }
 ],
 "metadata": {
  "kernelspec": {
   "display_name": "Python 3 (ipykernel)",
   "language": "python",
   "name": "python3"
  },
  "language_info": {
   "codemirror_mode": {
    "name": "ipython",
    "version": 3
   },
   "file_extension": ".py",
   "mimetype": "text/x-python",
   "name": "python",
   "nbconvert_exporter": "python",
   "pygments_lexer": "ipython3",
   "version": "3.9.7"
  }
 },
 "nbformat": 4,
 "nbformat_minor": 5
}
