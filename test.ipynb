{
 "cells": [
  {
   "cell_type": "code",
   "execution_count": 2,
   "id": "90d622e7",
   "metadata": {},
   "outputs": [],
   "source": [
    "# 5(1/3)"
   ]
  },
  {
   "cell_type": "code",
   "execution_count": 3,
   "id": "0b3e6e2b",
   "metadata": {},
   "outputs": [
    {
     "data": {
      "text/plain": [
       "5.333333333333333"
      ]
     },
     "execution_count": 3,
     "metadata": {},
     "output_type": "execute_result"
    }
   ],
   "source": [
    "5 + (1/3)"
   ]
  },
  {
   "cell_type": "code",
   "execution_count": 4,
   "id": "3cccbeb8",
   "metadata": {},
   "outputs": [
    {
     "data": {
      "text/plain": [
       "5.333333333333333"
      ]
     },
     "execution_count": 4,
     "metadata": {},
     "output_type": "execute_result"
    }
   ],
   "source": [
    "5/1 + 1/3"
   ]
  },
  {
   "cell_type": "code",
   "execution_count": 8,
   "id": "ab552103",
   "metadata": {},
   "outputs": [
    {
     "data": {
      "text/plain": [
       "2022.0"
      ]
     },
     "execution_count": 8,
     "metadata": {},
     "output_type": "execute_result"
    }
   ],
   "source": [
    "(10+3**2)*8*(((49)**0.5) +6)+((5) + (1/3) + 4)*(5-(1/6))+((2**3)/(3**2))"
   ]
  },
  {
   "cell_type": "code",
   "execution_count": null,
   "id": "962fec9e",
   "metadata": {},
   "outputs": [],
   "source": []
  }
 ],
 "metadata": {
  "kernelspec": {
   "display_name": "Python 3 (ipykernel)",
   "language": "python",
   "name": "python3"
  },
  "language_info": {
   "codemirror_mode": {
    "name": "ipython",
    "version": 3
   },
   "file_extension": ".py",
   "mimetype": "text/x-python",
   "name": "python",
   "nbconvert_exporter": "python",
   "pygments_lexer": "ipython3",
   "version": "3.9.7"
  }
 },
 "nbformat": 4,
 "nbformat_minor": 5
}
